{
 "cells": [
  {
   "cell_type": "code",
   "execution_count": 1,
   "id": "a5d24a5d",
   "metadata": {},
   "outputs": [],
   "source": [
    "#FingerTracking"
   ]
  },
  {
   "cell_type": "code",
   "execution_count": 1,
   "id": "8f334f63",
   "metadata": {},
   "outputs": [],
   "source": [
    "#importing libraries\n",
    "import cv2\n",
    "import time\n",
    "import mediapipe as mp"
   ]
  },
  {
   "cell_type": "code",
   "execution_count": 2,
   "id": "f49d2d8a",
   "metadata": {},
   "outputs": [
    {
     "name": "stdout",
     "output_type": "stream",
     "text": [
      "Enter the reference point index :8\n"
     ]
    }
   ],
   "source": [
    "#Finger reference point and their index is given in the description\n",
    "ref_id=int(input(\"Enter the reference point index :\"))"
   ]
  },
  {
   "cell_type": "code",
   "execution_count": 3,
   "id": "1298ec78",
   "metadata": {},
   "outputs": [
    {
     "ename": "KeyboardInterrupt",
     "evalue": "",
     "output_type": "error",
     "traceback": [
      "\u001b[1;31m---------------------------------------------------------------------------\u001b[0m",
      "\u001b[1;31mKeyboardInterrupt\u001b[0m                         Traceback (most recent call last)",
      "\u001b[1;32m<ipython-input-3-cfe51c4311c9>\u001b[0m in \u001b[0;36m<module>\u001b[1;34m\u001b[0m\n\u001b[0;32m     37\u001b[0m     \u001b[1;31m#displaying the results\u001b[0m\u001b[1;33m\u001b[0m\u001b[1;33m\u001b[0m\u001b[1;33m\u001b[0m\u001b[0m\n\u001b[0;32m     38\u001b[0m     \u001b[0mcv2\u001b[0m\u001b[1;33m.\u001b[0m\u001b[0mputText\u001b[0m\u001b[1;33m(\u001b[0m\u001b[0mimg\u001b[0m\u001b[1;33m,\u001b[0m \u001b[0mstr\u001b[0m\u001b[1;33m(\u001b[0m\u001b[0mint\u001b[0m\u001b[1;33m(\u001b[0m\u001b[0mframe_rate\u001b[0m\u001b[1;33m)\u001b[0m\u001b[1;33m)\u001b[0m\u001b[1;33m,\u001b[0m \u001b[1;33m(\u001b[0m\u001b[1;36m20\u001b[0m\u001b[1;33m,\u001b[0m \u001b[1;36m40\u001b[0m\u001b[1;33m)\u001b[0m\u001b[1;33m,\u001b[0m \u001b[0mcv2\u001b[0m\u001b[1;33m.\u001b[0m\u001b[0mFONT_HERSHEY_PLAIN\u001b[0m\u001b[1;33m,\u001b[0m \u001b[1;36m3\u001b[0m\u001b[1;33m,\u001b[0m \u001b[1;33m(\u001b[0m\u001b[1;36m0\u001b[0m\u001b[1;33m,\u001b[0m \u001b[1;36m0\u001b[0m\u001b[1;33m,\u001b[0m \u001b[1;36m255\u001b[0m\u001b[1;33m)\u001b[0m\u001b[1;33m,\u001b[0m \u001b[1;36m3\u001b[0m\u001b[1;33m)\u001b[0m\u001b[1;33m\u001b[0m\u001b[1;33m\u001b[0m\u001b[0m\n\u001b[1;32m---> 39\u001b[1;33m     \u001b[0mcv2\u001b[0m\u001b[1;33m.\u001b[0m\u001b[0mimshow\u001b[0m\u001b[1;33m(\u001b[0m\u001b[1;34m\"camera\"\u001b[0m\u001b[1;33m,\u001b[0m \u001b[0mimg\u001b[0m\u001b[1;33m)\u001b[0m\u001b[1;33m\u001b[0m\u001b[1;33m\u001b[0m\u001b[0m\n\u001b[0m\u001b[0;32m     40\u001b[0m     \u001b[0mcv2\u001b[0m\u001b[1;33m.\u001b[0m\u001b[0mwaitKey\u001b[0m\u001b[1;33m(\u001b[0m\u001b[1;36m1\u001b[0m\u001b[1;33m)\u001b[0m\u001b[1;33m\u001b[0m\u001b[1;33m\u001b[0m\u001b[0m\n",
      "\u001b[1;31mKeyboardInterrupt\u001b[0m: "
     ]
    }
   ],
   "source": [
    "#capturing the video\n",
    "cap=cv2.VideoCapture(0)\n",
    "\n",
    "#this will help us detect the hand and draw the reference points\n",
    "mphand=mp.solutions.hands\n",
    "hands=mphand.Hands()\n",
    "mpDraw=mp.solutions.drawing_utils    #this statement will help us plot the 21 reference points and their connections\n",
    "\n",
    "#variables required to print frame rate\n",
    "previous_time=0\n",
    "current_time=0\n",
    "\n",
    "while True:\n",
    "    success, img=cap.read()\n",
    "    \n",
    "    #converting image to rgb\n",
    "    img_rgb=cv2.cvtColor(img, cv2.COLOR_BGR2RGB)\n",
    "    \n",
    "    #detecting hand/s using 21 points of reference, these reference points will be plotted on the hand\n",
    "    result=hands.process(img_rgb)\n",
    "    \n",
    "    if result.multi_hand_landmarks:\n",
    "        for handlms in result.multi_hand_landmarks:    #loop: handlms gives us the number of hands i.e. 1 hand, 2hands...\n",
    "            for id, lm in enumerate(handlms.landmark):    #loop: gives us individual reference point on each hand\n",
    "                h, w, c=img.shape                         #gives us the dimensions of the frame\n",
    "                cx, cy=int(lm.x*w), int(lm.y*h)           #give us the coordinates for the reference points\n",
    "                if id==ref_id:\n",
    "                    cv2.circle(img, (cx, cy), 20, (255, 0, 255), cv2.FILLED)\n",
    "            mpDraw.draw_landmarks(img, handlms, mphand.HAND_CONNECTIONS)\n",
    "            #the above statement will actually plot the 21 reference points and their connections\n",
    "            \n",
    "    #calculating the frame rate\n",
    "    current_time=time.time()\n",
    "    frame_rate=1/(current_time-previous_time)\n",
    "    previous_time=current_time\n",
    "    \n",
    "    #displaying the results\n",
    "    cv2.putText(img, str(int(frame_rate)), (20, 40), cv2.FONT_HERSHEY_PLAIN, 3, (0, 0, 255), 3)\n",
    "    cv2.imshow(\"camera\", img)\n",
    "    cv2.waitKey(1)"
   ]
  },
  {
   "cell_type": "code",
   "execution_count": null,
   "id": "5a43fbf4",
   "metadata": {},
   "outputs": [],
   "source": []
  }
 ],
 "metadata": {
  "kernelspec": {
   "display_name": "Python 3",
   "language": "python",
   "name": "python3"
  },
  "language_info": {
   "codemirror_mode": {
    "name": "ipython",
    "version": 3
   },
   "file_extension": ".py",
   "mimetype": "text/x-python",
   "name": "python",
   "nbconvert_exporter": "python",
   "pygments_lexer": "ipython3",
   "version": "3.8.8"
  }
 },
 "nbformat": 4,
 "nbformat_minor": 5
}
